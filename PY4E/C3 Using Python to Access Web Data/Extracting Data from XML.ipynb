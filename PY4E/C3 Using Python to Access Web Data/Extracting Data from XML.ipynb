{
 "cells": [
  {
   "cell_type": "markdown",
   "metadata": {},
   "source": [
    "In this assignment you will write a Python program somewhat similar to\n",
    "http://www.py4e.com/code3/geoxml.py\n",
    ". The program will prompt for a URL, read the XML data from that URL using urllib and then parse and extract the comment counts from the XML data, compute the sum of the numbers in the file. We provide two files for this assignment. One is a sample file where we give you the sum for your testing and the other is the actual data you need to process for the assignment. Sample data:\n",
    "http://py4e-data.dr-chuck.net/comments_42.xml\n",
    "(Sum=2553) Actual data:\n",
    "http://py4e-data.dr-chuck.net/comments_35434.xml\n",
    "(Sum ends with 30) You do not need to save these files to your folder since your program will read the data directly from the URL. Note: Each student will have a distinct data url for the assignment - so only use your own data url for analysis.\n"
   ]
  },
  {
   "cell_type": "code",
   "execution_count": null,
   "metadata": {},
   "outputs": [],
   "source": [
    "import urllib.request, urllib.parse, urllib.error\n",
    "import xml.etree.ElementTree as ET\n",
    "\n",
    "url = 'http://py4e-data.dr-chuck.net/comments_35434.xml'\n",
    "\n",
    "\n",
    "\n",
    "print('Retrieving', url)\n",
    "uh = urllib.request.urlopen(url)\n",
    "data = uh.read()\n",
    "print('Retrieved', len(data), 'characters')\n",
    "tree = ET.fromstring(data)\n",
    "\n",
    "comments_node = tree.findall('comments')\n",
    "comment_node = comments_node[0].findall('comment')\n",
    "\n",
    "total = 0\n",
    "for node in comment_node:\n",
    "    total = total + int(node.find('count').text)\n",
    "print(total)\n"
   ]
  }
 ],
 "metadata": {
  "kernelspec": {
   "display_name": "Python 3",
   "language": "python",
   "name": "python3"
  },
  "language_info": {
   "codemirror_mode": {
    "name": "ipython",
    "version": 3
   },
   "file_extension": ".py",
   "mimetype": "text/x-python",
   "name": "python",
   "nbconvert_exporter": "python",
   "pygments_lexer": "ipython3",
   "version": "3.7.3"
  }
 },
 "nbformat": 4,
 "nbformat_minor": 2
}
