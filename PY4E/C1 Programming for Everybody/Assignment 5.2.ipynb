{
 "cells": [
  {
   "cell_type": "markdown",
   "metadata": {},
   "source": [
    "5.2 Write a program that repeatedly prompts a user for integer numbers until the user enters 'done'. Once 'done' is entered, print out the largest and smallest of the numbers. If the user enters anything other than a valid number catch it with a try/except and put out an appropriate message and ignore the number. Enter 7, 2, bob, 10, and 4 and match the output below."
   ]
  },
  {
   "cell_type": "code",
   "execution_count": null,
   "metadata": {},
   "outputs": [],
   "source": [
    "# Input: 5,6,hehe,4,7\n",
    "# Desired Output: \n",
    "#     Invalid input\n",
    "#     Maximum is 7\n",
    "#     Minimum is 4\n",
    " \n",
    " \n",
    "largest = None\n",
    "smallest = None\n",
    " \n",
    "while True:\n",
    "    num = raw_input(\"Enter a number: \")\n",
    "    if num == \"done\" : break\n",
    "        \n",
    "    try:\n",
    "        n=int(num)\n",
    " \n",
    "    except:\n",
    "        print (\"Invalid input\")\n",
    "            \n",
    "    if n>largest:\n",
    "        largest=n\n",
    "    if smallest is None or n<smallest:\n",
    "        smallest=n\n",
    " \n",
    "    \n",
    "print (\"Maximum is\", largest)\n",
    "print (\"Minimum is\", smallest)\n"
   ]
  }
 ],
 "metadata": {
  "kernelspec": {
   "display_name": "Python 3",
   "language": "python",
   "name": "python3"
  },
  "language_info": {
   "codemirror_mode": {
    "name": "ipython",
    "version": 3
   },
   "file_extension": ".py",
   "mimetype": "text/x-python",
   "name": "python",
   "nbconvert_exporter": "python",
   "pygments_lexer": "ipython3",
   "version": "3.7.3"
  }
 },
 "nbformat": 4,
 "nbformat_minor": 2
}
